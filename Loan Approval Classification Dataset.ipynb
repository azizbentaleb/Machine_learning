{
 "cells": [
  {
   "cell_type": "markdown",
   "id": "0c387577",
   "metadata": {},
   "source": [
    "### The dataset contains transactions made by credit cards in September 2013 by European cardholders."
   ]
  },
  {
   "cell_type": "markdown",
   "id": "8a0e680f",
   "metadata": {},
   "source": [
    "##### This dataset is a synthetic version inspired by the original Credit Risk dataset on Kaggle and enriched with additional variables based on Financial Risk for Loan Approval data. SMOTENC was used to simulate new data points to enlarge the instances. The dataset is structured for both categorical and continuous features."
   ]
  },
  {
   "cell_type": "markdown",
   "id": "63a0bce9",
   "metadata": {},
   "source": [
    "### Packages and a data discovery part"
   ]
  },
  {
   "cell_type": "code",
   "execution_count": 27,
   "id": "53b151f7",
   "metadata": {},
   "outputs": [],
   "source": [
    "import pandas as pd\n",
    "import numpy as np\n",
    "import seaborn as sns\n",
    "from scipy import stats\n",
    "import matplotlib.pyplot as plt\n",
    "from sklearn.preprocessing import LabelEncoder\n",
    "from sklearn.preprocessing import OneHotEncoder\n",
    "from sklearn.model_selection import train_test_split\n",
    "from sklearn.preprocessing import StandardScaler\n",
    "from sklearn.model_selection import  GridSearchCV\n",
    "from sklearn.ensemble import RandomForestClassifier\n",
    "from xgboost import XGBClassifier\n",
    "from sklearn.svm import SVC\n",
    "from sklearn.metrics import mean_squared_error\n",
    "from sklearn.linear_model import Ridge\n",
    "from sklearn.metrics import classification_report\n",
    "from sklearn.metrics import r2_score\n",
    "import warnings\n",
    "warnings.filterwarnings(\"ignore\")"
   ]
  },
  {
   "cell_type": "code",
   "execution_count": 2,
   "id": "c1f76a3e",
   "metadata": {},
   "outputs": [],
   "source": [
    "data=pd.read_csv(\"C:\\\\Users\\\\aziz\\\\Desktop\\\\loan_data.csv\")"
   ]
  },
  {
   "cell_type": "code",
   "execution_count": 3,
   "id": "bc2528bb",
   "metadata": {},
   "outputs": [
    {
     "data": {
      "text/html": [
       "<div>\n",
       "<style scoped>\n",
       "    .dataframe tbody tr th:only-of-type {\n",
       "        vertical-align: middle;\n",
       "    }\n",
       "\n",
       "    .dataframe tbody tr th {\n",
       "        vertical-align: top;\n",
       "    }\n",
       "\n",
       "    .dataframe thead th {\n",
       "        text-align: right;\n",
       "    }\n",
       "</style>\n",
       "<table border=\"1\" class=\"dataframe\">\n",
       "  <thead>\n",
       "    <tr style=\"text-align: right;\">\n",
       "      <th></th>\n",
       "      <th>person_age</th>\n",
       "      <th>person_gender</th>\n",
       "      <th>person_education</th>\n",
       "      <th>person_income</th>\n",
       "      <th>person_emp_exp</th>\n",
       "      <th>person_home_ownership</th>\n",
       "      <th>loan_amnt</th>\n",
       "      <th>loan_intent</th>\n",
       "      <th>loan_int_rate</th>\n",
       "      <th>loan_percent_income</th>\n",
       "      <th>cb_person_cred_hist_length</th>\n",
       "      <th>credit_score</th>\n",
       "      <th>previous_loan_defaults_on_file</th>\n",
       "      <th>loan_status</th>\n",
       "    </tr>\n",
       "  </thead>\n",
       "  <tbody>\n",
       "    <tr>\n",
       "      <th>0</th>\n",
       "      <td>22.0</td>\n",
       "      <td>female</td>\n",
       "      <td>Master</td>\n",
       "      <td>71948.0</td>\n",
       "      <td>0</td>\n",
       "      <td>RENT</td>\n",
       "      <td>35000.0</td>\n",
       "      <td>PERSONAL</td>\n",
       "      <td>16.02</td>\n",
       "      <td>0.49</td>\n",
       "      <td>3.0</td>\n",
       "      <td>561</td>\n",
       "      <td>No</td>\n",
       "      <td>1</td>\n",
       "    </tr>\n",
       "    <tr>\n",
       "      <th>1</th>\n",
       "      <td>21.0</td>\n",
       "      <td>female</td>\n",
       "      <td>High School</td>\n",
       "      <td>12282.0</td>\n",
       "      <td>0</td>\n",
       "      <td>OWN</td>\n",
       "      <td>1000.0</td>\n",
       "      <td>EDUCATION</td>\n",
       "      <td>11.14</td>\n",
       "      <td>0.08</td>\n",
       "      <td>2.0</td>\n",
       "      <td>504</td>\n",
       "      <td>Yes</td>\n",
       "      <td>0</td>\n",
       "    </tr>\n",
       "    <tr>\n",
       "      <th>2</th>\n",
       "      <td>25.0</td>\n",
       "      <td>female</td>\n",
       "      <td>High School</td>\n",
       "      <td>12438.0</td>\n",
       "      <td>3</td>\n",
       "      <td>MORTGAGE</td>\n",
       "      <td>5500.0</td>\n",
       "      <td>MEDICAL</td>\n",
       "      <td>12.87</td>\n",
       "      <td>0.44</td>\n",
       "      <td>3.0</td>\n",
       "      <td>635</td>\n",
       "      <td>No</td>\n",
       "      <td>1</td>\n",
       "    </tr>\n",
       "    <tr>\n",
       "      <th>3</th>\n",
       "      <td>23.0</td>\n",
       "      <td>female</td>\n",
       "      <td>Bachelor</td>\n",
       "      <td>79753.0</td>\n",
       "      <td>0</td>\n",
       "      <td>RENT</td>\n",
       "      <td>35000.0</td>\n",
       "      <td>MEDICAL</td>\n",
       "      <td>15.23</td>\n",
       "      <td>0.44</td>\n",
       "      <td>2.0</td>\n",
       "      <td>675</td>\n",
       "      <td>No</td>\n",
       "      <td>1</td>\n",
       "    </tr>\n",
       "    <tr>\n",
       "      <th>4</th>\n",
       "      <td>24.0</td>\n",
       "      <td>male</td>\n",
       "      <td>Master</td>\n",
       "      <td>66135.0</td>\n",
       "      <td>1</td>\n",
       "      <td>RENT</td>\n",
       "      <td>35000.0</td>\n",
       "      <td>MEDICAL</td>\n",
       "      <td>14.27</td>\n",
       "      <td>0.53</td>\n",
       "      <td>4.0</td>\n",
       "      <td>586</td>\n",
       "      <td>No</td>\n",
       "      <td>1</td>\n",
       "    </tr>\n",
       "  </tbody>\n",
       "</table>\n",
       "</div>"
      ],
      "text/plain": [
       "   person_age person_gender person_education  person_income  person_emp_exp  \\\n",
       "0        22.0        female           Master        71948.0               0   \n",
       "1        21.0        female      High School        12282.0               0   \n",
       "2        25.0        female      High School        12438.0               3   \n",
       "3        23.0        female         Bachelor        79753.0               0   \n",
       "4        24.0          male           Master        66135.0               1   \n",
       "\n",
       "  person_home_ownership  loan_amnt loan_intent  loan_int_rate  \\\n",
       "0                  RENT    35000.0    PERSONAL          16.02   \n",
       "1                   OWN     1000.0   EDUCATION          11.14   \n",
       "2              MORTGAGE     5500.0     MEDICAL          12.87   \n",
       "3                  RENT    35000.0     MEDICAL          15.23   \n",
       "4                  RENT    35000.0     MEDICAL          14.27   \n",
       "\n",
       "   loan_percent_income  cb_person_cred_hist_length  credit_score  \\\n",
       "0                 0.49                         3.0           561   \n",
       "1                 0.08                         2.0           504   \n",
       "2                 0.44                         3.0           635   \n",
       "3                 0.44                         2.0           675   \n",
       "4                 0.53                         4.0           586   \n",
       "\n",
       "  previous_loan_defaults_on_file  loan_status  \n",
       "0                             No            1  \n",
       "1                            Yes            0  \n",
       "2                             No            1  \n",
       "3                             No            1  \n",
       "4                             No            1  "
      ]
     },
     "execution_count": 3,
     "metadata": {},
     "output_type": "execute_result"
    }
   ],
   "source": [
    "data.head(5)"
   ]
  },
  {
   "cell_type": "code",
   "execution_count": 4,
   "id": "838505fc",
   "metadata": {},
   "outputs": [
    {
     "name": "stdout",
     "output_type": "stream",
     "text": [
      "<class 'pandas.core.frame.DataFrame'>\n",
      "RangeIndex: 45000 entries, 0 to 44999\n",
      "Data columns (total 14 columns):\n",
      " #   Column                          Non-Null Count  Dtype  \n",
      "---  ------                          --------------  -----  \n",
      " 0   person_age                      45000 non-null  float64\n",
      " 1   person_gender                   45000 non-null  object \n",
      " 2   person_education                45000 non-null  object \n",
      " 3   person_income                   45000 non-null  float64\n",
      " 4   person_emp_exp                  45000 non-null  int64  \n",
      " 5   person_home_ownership           45000 non-null  object \n",
      " 6   loan_amnt                       45000 non-null  float64\n",
      " 7   loan_intent                     45000 non-null  object \n",
      " 8   loan_int_rate                   45000 non-null  float64\n",
      " 9   loan_percent_income             45000 non-null  float64\n",
      " 10  cb_person_cred_hist_length      45000 non-null  float64\n",
      " 11  credit_score                    45000 non-null  int64  \n",
      " 12  previous_loan_defaults_on_file  45000 non-null  object \n",
      " 13  loan_status                     45000 non-null  int64  \n",
      "dtypes: float64(6), int64(3), object(5)\n",
      "memory usage: 4.8+ MB\n"
     ]
    }
   ],
   "source": [
    "data.info()"
   ]
  },
  {
   "cell_type": "code",
   "execution_count": 5,
   "id": "1bf03f8b",
   "metadata": {},
   "outputs": [
    {
     "data": {
      "text/html": [
       "<div>\n",
       "<style scoped>\n",
       "    .dataframe tbody tr th:only-of-type {\n",
       "        vertical-align: middle;\n",
       "    }\n",
       "\n",
       "    .dataframe tbody tr th {\n",
       "        vertical-align: top;\n",
       "    }\n",
       "\n",
       "    .dataframe thead th {\n",
       "        text-align: right;\n",
       "    }\n",
       "</style>\n",
       "<table border=\"1\" class=\"dataframe\">\n",
       "  <thead>\n",
       "    <tr style=\"text-align: right;\">\n",
       "      <th></th>\n",
       "      <th>person_age</th>\n",
       "      <th>person_income</th>\n",
       "      <th>person_emp_exp</th>\n",
       "      <th>loan_amnt</th>\n",
       "      <th>loan_int_rate</th>\n",
       "      <th>loan_percent_income</th>\n",
       "      <th>cb_person_cred_hist_length</th>\n",
       "      <th>credit_score</th>\n",
       "      <th>loan_status</th>\n",
       "    </tr>\n",
       "  </thead>\n",
       "  <tbody>\n",
       "    <tr>\n",
       "      <th>count</th>\n",
       "      <td>45000.000000</td>\n",
       "      <td>4.500000e+04</td>\n",
       "      <td>45000.000000</td>\n",
       "      <td>45000.000000</td>\n",
       "      <td>45000.000000</td>\n",
       "      <td>45000.000000</td>\n",
       "      <td>45000.000000</td>\n",
       "      <td>45000.000000</td>\n",
       "      <td>45000.000000</td>\n",
       "    </tr>\n",
       "    <tr>\n",
       "      <th>mean</th>\n",
       "      <td>27.764178</td>\n",
       "      <td>8.031905e+04</td>\n",
       "      <td>5.410333</td>\n",
       "      <td>9583.157556</td>\n",
       "      <td>11.006606</td>\n",
       "      <td>0.139725</td>\n",
       "      <td>5.867489</td>\n",
       "      <td>632.608756</td>\n",
       "      <td>0.222222</td>\n",
       "    </tr>\n",
       "    <tr>\n",
       "      <th>std</th>\n",
       "      <td>6.045108</td>\n",
       "      <td>8.042250e+04</td>\n",
       "      <td>6.063532</td>\n",
       "      <td>6314.886691</td>\n",
       "      <td>2.978808</td>\n",
       "      <td>0.087212</td>\n",
       "      <td>3.879702</td>\n",
       "      <td>50.435865</td>\n",
       "      <td>0.415744</td>\n",
       "    </tr>\n",
       "    <tr>\n",
       "      <th>min</th>\n",
       "      <td>20.000000</td>\n",
       "      <td>8.000000e+03</td>\n",
       "      <td>0.000000</td>\n",
       "      <td>500.000000</td>\n",
       "      <td>5.420000</td>\n",
       "      <td>0.000000</td>\n",
       "      <td>2.000000</td>\n",
       "      <td>390.000000</td>\n",
       "      <td>0.000000</td>\n",
       "    </tr>\n",
       "    <tr>\n",
       "      <th>25%</th>\n",
       "      <td>24.000000</td>\n",
       "      <td>4.720400e+04</td>\n",
       "      <td>1.000000</td>\n",
       "      <td>5000.000000</td>\n",
       "      <td>8.590000</td>\n",
       "      <td>0.070000</td>\n",
       "      <td>3.000000</td>\n",
       "      <td>601.000000</td>\n",
       "      <td>0.000000</td>\n",
       "    </tr>\n",
       "    <tr>\n",
       "      <th>50%</th>\n",
       "      <td>26.000000</td>\n",
       "      <td>6.704800e+04</td>\n",
       "      <td>4.000000</td>\n",
       "      <td>8000.000000</td>\n",
       "      <td>11.010000</td>\n",
       "      <td>0.120000</td>\n",
       "      <td>4.000000</td>\n",
       "      <td>640.000000</td>\n",
       "      <td>0.000000</td>\n",
       "    </tr>\n",
       "    <tr>\n",
       "      <th>75%</th>\n",
       "      <td>30.000000</td>\n",
       "      <td>9.578925e+04</td>\n",
       "      <td>8.000000</td>\n",
       "      <td>12237.250000</td>\n",
       "      <td>12.990000</td>\n",
       "      <td>0.190000</td>\n",
       "      <td>8.000000</td>\n",
       "      <td>670.000000</td>\n",
       "      <td>0.000000</td>\n",
       "    </tr>\n",
       "    <tr>\n",
       "      <th>max</th>\n",
       "      <td>144.000000</td>\n",
       "      <td>7.200766e+06</td>\n",
       "      <td>125.000000</td>\n",
       "      <td>35000.000000</td>\n",
       "      <td>20.000000</td>\n",
       "      <td>0.660000</td>\n",
       "      <td>30.000000</td>\n",
       "      <td>850.000000</td>\n",
       "      <td>1.000000</td>\n",
       "    </tr>\n",
       "  </tbody>\n",
       "</table>\n",
       "</div>"
      ],
      "text/plain": [
       "         person_age  person_income  person_emp_exp     loan_amnt  \\\n",
       "count  45000.000000   4.500000e+04    45000.000000  45000.000000   \n",
       "mean      27.764178   8.031905e+04        5.410333   9583.157556   \n",
       "std        6.045108   8.042250e+04        6.063532   6314.886691   \n",
       "min       20.000000   8.000000e+03        0.000000    500.000000   \n",
       "25%       24.000000   4.720400e+04        1.000000   5000.000000   \n",
       "50%       26.000000   6.704800e+04        4.000000   8000.000000   \n",
       "75%       30.000000   9.578925e+04        8.000000  12237.250000   \n",
       "max      144.000000   7.200766e+06      125.000000  35000.000000   \n",
       "\n",
       "       loan_int_rate  loan_percent_income  cb_person_cred_hist_length  \\\n",
       "count   45000.000000         45000.000000                45000.000000   \n",
       "mean       11.006606             0.139725                    5.867489   \n",
       "std         2.978808             0.087212                    3.879702   \n",
       "min         5.420000             0.000000                    2.000000   \n",
       "25%         8.590000             0.070000                    3.000000   \n",
       "50%        11.010000             0.120000                    4.000000   \n",
       "75%        12.990000             0.190000                    8.000000   \n",
       "max        20.000000             0.660000                   30.000000   \n",
       "\n",
       "       credit_score   loan_status  \n",
       "count  45000.000000  45000.000000  \n",
       "mean     632.608756      0.222222  \n",
       "std       50.435865      0.415744  \n",
       "min      390.000000      0.000000  \n",
       "25%      601.000000      0.000000  \n",
       "50%      640.000000      0.000000  \n",
       "75%      670.000000      0.000000  \n",
       "max      850.000000      1.000000  "
      ]
     },
     "execution_count": 5,
     "metadata": {},
     "output_type": "execute_result"
    }
   ],
   "source": [
    "data.describe()"
   ]
  },
  {
   "cell_type": "code",
   "execution_count": 6,
   "id": "756f6253",
   "metadata": {},
   "outputs": [
    {
     "data": {
      "text/plain": [
       "person_age                        0.0\n",
       "person_gender                     0.0\n",
       "person_education                  0.0\n",
       "person_income                     0.0\n",
       "person_emp_exp                    0.0\n",
       "person_home_ownership             0.0\n",
       "loan_amnt                         0.0\n",
       "loan_intent                       0.0\n",
       "loan_int_rate                     0.0\n",
       "loan_percent_income               0.0\n",
       "cb_person_cred_hist_length        0.0\n",
       "credit_score                      0.0\n",
       "previous_loan_defaults_on_file    0.0\n",
       "loan_status                       0.0\n",
       "dtype: float64"
      ]
     },
     "execution_count": 6,
     "metadata": {},
     "output_type": "execute_result"
    }
   ],
   "source": [
    "data.isna().sum()/data.shape[0]"
   ]
  },
  {
   "cell_type": "code",
   "execution_count": 7,
   "id": "ae2aec34",
   "metadata": {},
   "outputs": [
    {
     "data": {
      "text/plain": [
       "<Axes: >"
      ]
     },
     "execution_count": 7,
     "metadata": {},
     "output_type": "execute_result"
    },
    {
     "data": {
      "image/png": "[encoded data removed]",
      "text/plain": [
       "<Figure size 640x480 with 2 Axes>"
      ]
     },
     "metadata": {},
     "output_type": "display_data"
    }
   ],
   "source": [
    "sns.heatmap(data.isna())"
   ]
  },
  {
   "cell_type": "markdown",
   "id": "ad476bd0",
   "metadata": {},
   "source": [
    "##### Converting data"
   ]
  },
  {
   "cell_type": "code",
   "execution_count": 8,
   "id": "7f153ff4",
   "metadata": {},
   "outputs": [],
   "source": [
    "label_encoder = LabelEncoder()\n",
    "\n",
    "data[\"person_education_encoded\"] = label_encoder.fit_transform(data[\"person_education\"])\n",
    "\n",
    "data.drop('person_education', axis=1, inplace=True)\n"
   ]
  },
  {
   "cell_type": "code",
   "execution_count": 9,
   "id": "5473f172",
   "metadata": {},
   "outputs": [],
   "source": [
    "one_hot_encoder = OneHotEncoder(sparse_output=False, handle_unknown='ignore')\n",
    "gender_encoded = one_hot_encoder.fit_transform(data[[\"person_gender\"]])\n",
    "gender_encoded_df = pd.DataFrame(gender_encoded, columns=one_hot_encoder.get_feature_names_out([\"person_gender\"]))\n",
    "data = pd.concat([data, gender_encoded_df], axis=1)\n",
    "data.drop('person_gender',axis=1, inplace=True)"
   ]
  },
  {
   "cell_type": "code",
   "execution_count": 10,
   "id": "d67213a2",
   "metadata": {},
   "outputs": [],
   "source": [
    "one_hot_encoder = OneHotEncoder(sparse_output=False, handle_unknown='ignore')\n",
    "own_encoded = one_hot_encoder.fit_transform(data[['person_home_ownership']])\n",
    "original_names = data['person_home_ownership'].unique()\n",
    "own_encoded_df = pd.DataFrame(own_encoded, columns=original_names)\n",
    "data = pd.concat([data, own_encoded_df], axis=1)\n",
    "data.drop(columns=['person_home_ownership'], inplace=True)"
   ]
  },
  {
   "cell_type": "code",
   "execution_count": 11,
   "id": "250d29fa",
   "metadata": {},
   "outputs": [],
   "source": [
    "one_hot_encoder = OneHotEncoder(sparse_output=False, handle_unknown='ignore')\n",
    "loan_intent_encoded = one_hot_encoder.fit_transform(data[['loan_intent']])\n",
    "original_loan_intent_names = data['loan_intent'].unique()\n",
    "loan_intent_encoded_df = pd.DataFrame(loan_intent_encoded, columns=original_loan_intent_names)\n",
    "data = pd.concat([data, loan_intent_encoded_df], axis=1)\n",
    "data.drop(columns=['loan_intent'], inplace=True)"
   ]
  },
  {
   "cell_type": "code",
   "execution_count": 12,
   "id": "c6b86adb",
   "metadata": {},
   "outputs": [],
   "source": [
    "one_hot_encoder = OneHotEncoder(sparse=False, handle_unknown='ignore')\n",
    "defaults_encoded = one_hot_encoder.fit_transform(data[['previous_loan_defaults_on_file']])\n",
    "defaults_encoded_df = pd.DataFrame(defaults_encoded, columns=one_hot_encoder.get_feature_names_out(['previous_loan_defaults_on_file']))\n",
    "data = pd.concat([data, defaults_encoded_df], axis=1)\n",
    "data.drop(columns=['previous_loan_defaults_on_file'], inplace=True)"
   ]
  },
  {
   "cell_type": "markdown",
   "id": "6f4655b6",
   "metadata": {},
   "source": [
    "### Checking the Numerical data\n"
   ]
  },
  {
   "cell_type": "code",
   "execution_count": 13,
   "id": "94d38c2d",
   "metadata": {},
   "outputs": [
    {
     "name": "stdout",
     "output_type": "stream",
     "text": [
      "data[person_age] has a variance equal to 36.54333328691454\n",
      "data[person_income] has a variance equal to 6467778286.197245\n",
      "data[person_emp_exp] has a variance equal to 36.766421364927105\n",
      "data[loan_amnt] has a variance equal to 39877793.914373636\n",
      "data[loan_int_rate] has a variance equal to 8.873298770339842\n",
      "data[loan_percent_income] has a variance equal to 0.007605986669134661\n",
      "data[cb_person_cred_hist_length] has a variance equal to 15.052086407353764\n",
      "data[credit_score] has a variance equal to 2543.77647837307\n",
      "data[loan_status] has a variance equal to 0.1728433471359405\n",
      "data[person_education_encoded] has a variance equal to 2.187878481743649\n",
      "data[person_gender_female] has a variance equal to 0.24729918393247682\n",
      "data[person_gender_male] has a variance equal to 0.24729918393247682\n",
      "data[RENT] has a variance equal to 0.2420606280138948\n",
      "data[OWN] has a variance equal to 0.002593297628839187\n",
      "data[MORTGAGE] has a variance equal to 0.061278694588202634\n",
      "data[OTHER] has a variance equal to 0.24956641061157922\n",
      "data[PERSONAL] has a variance equal to 0.13357036329205854\n",
      "data[EDUCATION] has a variance equal to 0.16203204071189892\n",
      "data[MEDICAL] has a variance equal to 0.09499367195808761\n",
      "data[VENTURE] has a variance equal to 0.1538758619327964\n",
      "data[HOMEIMPROVEMENT] has a variance equal to 0.13966102752911835\n",
      "data[DEBTCONSOLIDATION] has a variance equal to 0.14356775286372225\n",
      "data[previous_loan_defaults_on_file_No] has a variance equal to 0.24994226340826678\n",
      "data[previous_loan_defaults_on_file_Yes] has a variance equal to 0.24994226340826678\n"
     ]
    }
   ],
   "source": [
    "for i in data.select_dtypes(exclude='object'):\n",
    "    print(f\"data[{i}] has a variance equal to {data[i].var()}\")\n"
   ]
  },
  {
   "cell_type": "markdown",
   "id": "d36ec352",
   "metadata": {},
   "source": [
    "### Split the data \n"
   ]
  },
  {
   "cell_type": "code",
   "execution_count": 14,
   "id": "246cdd59",
   "metadata": {},
   "outputs": [],
   "source": [
    "Y=data[\"loan_status\"]\n",
    "X = data.drop(\"loan_status\", axis=1)"
   ]
  },
  {
   "cell_type": "code",
   "execution_count": 15,
   "id": "84a4c542",
   "metadata": {},
   "outputs": [],
   "source": [
    "X_train, X_test, y_train, y_test = train_test_split(X, Y, stratify=Y, random_state=42)"
   ]
  },
  {
   "cell_type": "code",
   "execution_count": null,
   "id": "cd79bfb5",
   "metadata": {},
   "outputs": [],
   "source": []
  },
  {
   "cell_type": "code",
   "execution_count": 16,
   "id": "9221440b",
   "metadata": {},
   "outputs": [],
   "source": [
    "scaler = StandardScaler()\n",
    "X_train_scaled= scaler.fit_transform(X_train)"
   ]
  },
  {
   "cell_type": "code",
   "execution_count": 17,
   "id": "43beb598",
   "metadata": {},
   "outputs": [],
   "source": [
    "X_test['person_income']=np.log(X_test['person_income'])\n",
    "X_test['loan_amnt']=np.log(X_test['loan_amnt'])"
   ]
  },
  {
   "cell_type": "code",
   "execution_count": 18,
   "id": "3e8c4be7",
   "metadata": {},
   "outputs": [],
   "source": [
    "X_train['person_income']=np.log(X_train['person_income'])\n",
    "X_train['loan_amnt']=np.log(X_train['loan_amnt'])"
   ]
  },
  {
   "cell_type": "code",
   "execution_count": 19,
   "id": "26a9bbc8",
   "metadata": {},
   "outputs": [],
   "source": [
    "X_test_scaled = scaler.transform(X_test)"
   ]
  },
  {
   "cell_type": "markdown",
   "id": "ac373ff3",
   "metadata": {},
   "source": [
    "### Models\n"
   ]
  },
  {
   "cell_type": "markdown",
   "id": "989008cc",
   "metadata": {},
   "source": [
    "#### Random Forest\n"
   ]
  },
  {
   "cell_type": "code",
   "execution_count": 20,
   "id": "46683f4e",
   "metadata": {},
   "outputs": [
    {
     "name": "stdout",
     "output_type": "stream",
     "text": [
      "Fitting 3 folds for each of 108 candidates, totalling 324 fits\n",
      "Best parameters for Random Forest: {'max_depth': 30, 'min_samples_leaf': 1, 'min_samples_split': 5, 'n_estimators': 200}\n",
      "Classification report for Random Forest:\n",
      "               precision    recall  f1-score   support\n",
      "\n",
      "           0       0.99      0.71      0.83      8750\n",
      "           1       0.49      0.98      0.66      2500\n",
      "\n",
      "    accuracy                           0.77     11250\n",
      "   macro avg       0.74      0.85      0.74     11250\n",
      "weighted avg       0.88      0.77      0.79     11250\n",
      "\n"
     ]
    }
   ],
   "source": [
    "rf_model = RandomForestClassifier(random_state=42)\n",
    "\n",
    "rf_param_grid = {\n",
    "    'n_estimators': [50, 100, 200],\n",
    "    'max_depth': [None, 10, 20, 30],\n",
    "    'min_samples_split': [2, 5, 10],\n",
    "    'min_samples_leaf': [1, 2, 4]\n",
    "}\n",
    "\n",
    "rf_grid_search = GridSearchCV(estimator=rf_model, param_grid=rf_param_grid,\n",
    "                               scoring='accuracy', cv=3, n_jobs=-1, verbose=2)\n",
    "rf_grid_search.fit(X_train_scaled, y_train)\n",
    "\n",
    "print(\"Best parameters for Random Forest:\", rf_grid_search.best_params_)\n",
    "rf_best_model = rf_grid_search.best_estimator_\n",
    "\n",
    "y_pred_rf = rf_best_model.predict(X_test_scaled)\n",
    "print(\"Classification report for Random Forest:\\n\", classification_report(y_test, y_pred_rf))\n"
   ]
  },
  {
   "cell_type": "markdown",
   "id": "85fc1577",
   "metadata": {},
   "source": [
    "#### XGBoost\n"
   ]
  },
  {
   "cell_type": "code",
   "execution_count": 21,
   "id": "1e5aecad",
   "metadata": {},
   "outputs": [
    {
     "name": "stdout",
     "output_type": "stream",
     "text": [
      "Fitting 3 folds for each of 81 candidates, totalling 243 fits\n",
      "Best parameters for XGBoost: {'learning_rate': 0.1, 'max_depth': 7, 'n_estimators': 200, 'subsample': 1.0}\n",
      "Classification report for XGBoost:\n",
      "               precision    recall  f1-score   support\n",
      "\n",
      "           0       0.99      0.72      0.84      8750\n",
      "           1       0.50      0.97      0.66      2500\n",
      "\n",
      "    accuracy                           0.78     11250\n",
      "   macro avg       0.75      0.85      0.75     11250\n",
      "weighted avg       0.88      0.78      0.80     11250\n",
      "\n"
     ]
    }
   ],
   "source": [
    "xgb_model = XGBClassifier(use_label_encoder=False, eval_metric='logloss')\n",
    "\n",
    "xgb_param_grid = {\n",
    "    'n_estimators': [50, 100, 200],\n",
    "    'max_depth': [3, 5, 7],\n",
    "    'learning_rate': [0.01, 0.1, 0.2],\n",
    "    'subsample': [0.6, 0.8, 1.0]\n",
    "}\n",
    "\n",
    "xgb_grid_search = GridSearchCV(estimator=xgb_model, param_grid=xgb_param_grid,\n",
    "                                scoring='accuracy', cv=3, n_jobs=-1, verbose=2)\n",
    "xgb_grid_search.fit(X_train_scaled, y_train)\n",
    "\n",
    "print(\"Best parameters for XGBoost:\", xgb_grid_search.best_params_)\n",
    "xgb_best_model = xgb_grid_search.best_estimator_\n",
    "\n",
    "y_pred_xgb = xgb_best_model.predict(X_test_scaled)\n",
    "print(\"Classification report for XGBoost:\\n\", classification_report(y_test, y_pred_xgb))"
   ]
  },
  {
   "cell_type": "markdown",
   "id": "85f209f7",
   "metadata": {},
   "source": [
    "#### SVC"
   ]
  },
  {
   "cell_type": "code",
   "execution_count": 22,
   "id": "2888a079",
   "metadata": {},
   "outputs": [
    {
     "name": "stdout",
     "output_type": "stream",
     "text": [
      "Fitting 3 folds for each of 48 candidates, totalling 144 fits\n",
      "Best parameters for SVM: {'C': 100, 'gamma': 0.01, 'kernel': 'rbf'}\n",
      "Classification report for SVM:\n",
      "               precision    recall  f1-score   support\n",
      "\n",
      "           0       0.98      0.76      0.86      8750\n",
      "           1       0.53      0.95      0.68      2500\n",
      "\n",
      "    accuracy                           0.80     11250\n",
      "   macro avg       0.76      0.86      0.77     11250\n",
      "weighted avg       0.88      0.80      0.82     11250\n",
      "\n"
     ]
    }
   ],
   "source": [
    "svm_model = SVC()\n",
    "\n",
    "svm_param_grid = {\n",
    "    'C': [0.1, 1, 10, 100],\n",
    "    'kernel': ['linear', 'rbf', 'poly'],\n",
    "    'gamma': ['scale', 'auto', 0.01, 0.1]\n",
    "}\n",
    "\n",
    "svm_grid_search = GridSearchCV(estimator=svm_model, param_grid=svm_param_grid,\n",
    "                                scoring='accuracy', cv=3, n_jobs=-1, verbose=2)\n",
    "svm_grid_search.fit(X_train_scaled, y_train)\n",
    "\n",
    "print(\"Best parameters for SVM:\", svm_grid_search.best_params_)\n",
    "svm_best_model = svm_grid_search.best_estimator_\n",
    "\n",
    "y_pred_svm = svm_best_model.predict(X_test_scaled)\n",
    "print(\"Classification report for SVM:\\n\", classification_report(y_test, y_pred_svm))"
   ]
  },
  {
   "cell_type": "markdown",
   "id": "bef15c32",
   "metadata": {},
   "source": [
    "#### Linear Regression "
   ]
  },
  {
   "cell_type": "code",
   "execution_count": 29,
   "id": "495dfa17",
   "metadata": {},
   "outputs": [
    {
     "name": "stdout",
     "output_type": "stream",
     "text": [
      "Fitting 3 folds for each of 20 candidates, totalling 60 fits\n",
      "Best parameters for Ridge Regression: {'alpha': 100, 'solver': 'svd'}\n",
      "Mean Squared Error for Ridge Regression: 0.10210139020794737\n"
     ]
    }
   ],
   "source": [
    "ridge_model = Ridge()\n",
    "\n",
    "ridge_param_grid = {\n",
    "    'alpha': [0.1, 1, 10, 100],\n",
    "    'solver': ['auto', 'svd', 'cholesky', 'lsqr', 'sparse_cg']\n",
    "}\n",
    "\n",
    "ridge_grid_search = GridSearchCV(estimator=ridge_model, param_grid=ridge_param_grid,\n",
    "                                  scoring='neg_mean_squared_error', cv=3, n_jobs=-1, verbose=2)\n",
    "ridge_grid_search.fit(X_train_scaled, y_train)\n",
    "\n",
    "print(\"Best parameters for Ridge Regression:\", ridge_grid_search.best_params_)\n",
    "ridge_best_model = ridge_grid_search.best_estimator_\n",
    "\n",
    "y_pred_ridge = ridge_best_model.predict(X_test_scaled)\n",
    "mse = mean_squared_error(y_test, y_pred_ridge)\n",
    "print(\"Mean Squared Error for Ridge Regression:\", mse)\n"
   ]
  },
  {
   "cell_type": "markdown",
   "id": "5da54b0e",
   "metadata": {},
   "source": [
    "##### This is a foundational machine learning project designed to illustrate the essential pipeline of a basic ML workflow. While it may lack advanced preprocessing techniques and visualizations, it serves as a useful demonstration of the standard processes involved in developing a machine learning model. The project aims to provide a clear understanding of the fundamental steps required to build a successful ML application.\n",
    "\n"
   ]
  },
  {
   "cell_type": "code",
   "execution_count": null,
   "id": "26522098",
   "metadata": {},
   "outputs": [],
   "source": []
  }
 ],
 "metadata": {
  "kernelspec": {
   "display_name": "Python 3 (ipykernel)",
   "language": "python",
   "name": "python3"
  },
  "language_info": {
   "codemirror_mode": {
    "name": "ipython",
    "version": 3
   },
   "file_extension": ".py",
   "mimetype": "text/x-python",
   "name": "python",
   "nbconvert_exporter": "python",
   "pygments_lexer": "ipython3",
   "version": "3.10.9"
  }
 },
 "nbformat": 4,
 "nbformat_minor": 5
}
